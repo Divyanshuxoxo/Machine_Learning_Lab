{
  "nbformat": 4,
  "nbformat_minor": 0,
  "metadata": {
    "colab": {
      "provenance": []
    },
    "kernelspec": {
      "name": "python3",
      "display_name": "Python 3"
    },
    "language_info": {
      "name": "python"
    }
  },
  "cells": [
    {
      "cell_type": "code",
      "execution_count": 1,
      "metadata": {
        "id": "hv0RSIKuyzJj"
      },
      "outputs": [],
      "source": [
        "import numpy as np\n",
        "from sklearn.metrics import mean_absolute_error, mean_squared_error, r2_score\n",
        "import matplotlib.pyplot as plt"
      ]
    },
    {
      "cell_type": "code",
      "source": [
        "# Data\n",
        "x = np.array([1, 2, 3, 4, 5]).reshape(-1, 1)\n",
        "y = np.array([20, 40, 50, 65, 80])"
      ],
      "metadata": {
        "id": "DBoRfBo-y2Vl"
      },
      "execution_count": 2,
      "outputs": []
    },
    {
      "cell_type": "code",
      "source": [
        "# Design matrix: [1, x, x^2]\n",
        "X_manual = np.column_stack((np.ones(len(x)), x, x**2))"
      ],
      "metadata": {
        "id": "HilrIKaVy5_9"
      },
      "execution_count": 3,
      "outputs": []
    },
    {
      "cell_type": "code",
      "source": [
        "# Normal Equation: (X^T X)^(-1) X^T y\n",
        "beta = np.linalg.inv(X_manual.T @ X_manual) @ (X_manual.T @ y)"
      ],
      "metadata": {
        "id": "eyAfzWbYy71c"
      },
      "execution_count": 4,
      "outputs": []
    },
    {
      "cell_type": "code",
      "source": [
        "print(\"Coefficients (β0, β1, β2):\", beta)"
      ],
      "metadata": {
        "colab": {
          "base_uri": "https://localhost:8080/",
          "height": 0
        },
        "id": "TuxQQIEuy9tk",
        "outputId": "cf117dd5-1f67-4497-bfbc-2a5d89dafad3"
      },
      "execution_count": 5,
      "outputs": [
        {
          "output_type": "stream",
          "name": "stdout",
          "text": [
            "Coefficients (β0, β1, β2): [ 5.         16.64285714 -0.35714286]\n"
          ]
        }
      ]
    },
    {
      "cell_type": "code",
      "source": [
        "# Predictions\n",
        "y_pred_manual = X_manual @ beta"
      ],
      "metadata": {
        "id": "W9Btbsppy_TM"
      },
      "execution_count": 6,
      "outputs": []
    },
    {
      "cell_type": "code",
      "source": [
        "# Metrics\n",
        "mae = mean_absolute_error(y, y_pred_manual)\n",
        "mse = mean_squared_error(y, y_pred_manual)\n",
        "rmse = np.sqrt(mse)\n",
        "r2 = r2_score(y, y_pred_manual)"
      ],
      "metadata": {
        "id": "v8q4VP3XzBE8"
      },
      "execution_count": 7,
      "outputs": []
    },
    {
      "cell_type": "code",
      "source": [
        "print(\"Mean Absolute Error:\", mae)\n",
        "print(\"Mean Squared Error:\", mse)\n",
        "print(\"Root Mean Squared Error:\", rmse)\n",
        "print(\"R² Score:\", r2)\n"
      ],
      "metadata": {
        "colab": {
          "base_uri": "https://localhost:8080/",
          "height": 0
        },
        "id": "sz9EDMiozDrs",
        "outputId": "c2bd97dd-9e57-4ca0-ecf7-688d570d18e1"
      },
      "execution_count": 8,
      "outputs": [
        {
          "output_type": "stream",
          "name": "stdout",
          "text": [
            "Mean Absolute Error: 1.5428571428571765\n",
            "Mean Squared Error: 3.142857142857151\n",
            "Root Mean Squared Error: 1.772810520855839\n",
            "R² Score: 0.9925876010781671\n"
          ]
        }
      ]
    }
  ]
}