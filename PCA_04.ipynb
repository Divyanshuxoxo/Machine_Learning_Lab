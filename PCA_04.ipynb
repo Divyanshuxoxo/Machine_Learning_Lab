{
  "nbformat": 4,
  "nbformat_minor": 0,
  "metadata": {
    "colab": {
      "provenance": []
    },
    "kernelspec": {
      "name": "python3",
      "display_name": "Python 3"
    },
    "language_info": {
      "name": "python"
    }
  },
  "cells": [
    {
      "cell_type": "code",
      "execution_count": null,
      "metadata": {
        "id": "4CRkdwq7nc0G"
      },
      "outputs": [],
      "source": [
        "import numpy as np\n",
        "import pandas as pd\n",
        "import matplotlib.pyplot as plt\n",
        "import seaborn as sns"
      ]
    },
    {
      "cell_type": "code",
      "source": [
        "data = np.array([\n",
        "    [2.5,2.4,1.2],\n",
        "    [0.5,0.7,0.3],\n",
        "    [2.2,2.9,1.4],\n",
        "    [1.9,2.2,1.1],\n",
        "    [3.1,3.0,1.7],\n",
        "    [2.3,2.7,1.5],\n",
        "    [2.0,1.6,0.9],\n",
        "    [1.0,1.1,0.4],\n",
        "    [1.5,1.6,0.8] ,\n",
        "])"
      ],
      "metadata": {
        "id": "h3lTHV5kn9uB"
      },
      "execution_count": null,
      "outputs": []
    },
    {
      "cell_type": "code",
      "source": [
        "df = pd.DataFrame(data,columns=['X','Y','Z'])"
      ],
      "metadata": {
        "id": "TeQZ_Hs6pX8v"
      },
      "execution_count": null,
      "outputs": []
    },
    {
      "cell_type": "code",
      "source": [
        "#step 2: stndardiztion using pandas\n",
        "standardized_data= (df-df.mean())/df.std()"
      ],
      "metadata": {
        "id": "jseEfLcLpikF"
      },
      "execution_count": null,
      "outputs": []
    },
    {
      "cell_type": "code",
      "source": [
        "#step 3:convarince matrix\n",
        "cov_matrix = standardized_data.cov()"
      ],
      "metadata": {
        "id": "12u5y2Mjp1Zm"
      },
      "execution_count": null,
      "outputs": []
    },
    {
      "cell_type": "code",
      "source": [
        "#step 4:eigen Decomposition\n",
        "eigenvalues, eigenvectors = np.linalg.eig(cov_matrix)"
      ],
      "metadata": {
        "id": "SekCs6d9qFa2"
      },
      "execution_count": null,
      "outputs": []
    },
    {
      "cell_type": "code",
      "source": [
        "#step 5:sort eigenvalues and eigenvectors\n",
        "sorted_indices = np.argsort(eigenvalues)[::-1]\n",
        "eigenvalues = eigenvalues[sorted_indices]\n",
        "eigenvectors = eigenvectors[:, sorted_indices]"
      ],
      "metadata": {
        "id": "pZBP-DSfqUrm"
      },
      "execution_count": null,
      "outputs": []
    },
    {
      "cell_type": "code",
      "source": [
        "#step 6; select top  2 eigen vectors\n",
        "eigenvectors_subset = eigenvectors[:, :2]"
      ],
      "metadata": {
        "id": "2fK-ygSOq6-v"
      },
      "execution_count": null,
      "outputs": []
    },
    {
      "cell_type": "code",
      "source": [
        "#step 7: project data to new basis\n",
        "reduced_data = standardized_data.to_numpy().dot(eigenvectors_subset)\n",
        "reduced_data = pd.DataFrame(reduced_data, columns=['PC1', 'PC2'])"
      ],
      "metadata": {
        "id": "ilpLdIYRrJY_"
      },
      "execution_count": null,
      "outputs": []
    },
    {
      "cell_type": "code",
      "source": [
        "# step 8 output the reduced data\n",
        "print(\"\\nReduced data(after pca)\\n\",reduced_data)"
      ],
      "metadata": {
        "colab": {
          "base_uri": "https://localhost:8080/"
        },
        "id": "00I8JOGZuLBg",
        "outputId": "8ca69a2d-5ee6-44f1-a84d-6ce8a182f68a"
      },
      "execution_count": null,
      "outputs": [
        {
          "output_type": "stream",
          "name": "stdout",
          "text": [
            "\n",
            "Reduced data(after pca)\n",
            "         PC1       PC2\n",
            "0  0.912245  0.280295\n",
            "1 -2.833210 -0.150122\n",
            "2  1.293138 -0.460307\n",
            "3  0.215152 -0.142057\n",
            "4  2.379437  0.237183\n",
            "5  1.345260 -0.271091\n",
            "6 -0.381194  0.464403\n",
            "7 -2.066608  0.034793\n",
            "8 -0.864220  0.006903\n"
          ]
        }
      ]
    },
    {
      "cell_type": "code",
      "source": [
        "#step 9: visualize\n",
        "plt.figure(figsize=(8,6))\n",
        "plt.scatter(reduced_data['PC1'], reduced_data['PC2'], color ='blue',edgecolor='black')\n",
        "plt.xlabel('Principal Component 1')\n",
        "plt.ylabel('Principal Component 2')\n",
        "plt.title('PCA Result')\n",
        "\n",
        "plt.show()"
      ],
      "metadata": {
        "colab": {
          "base_uri": "https://localhost:8080/",
          "height": 564
        },
        "id": "VqaGxZAHuaTA",
        "outputId": "963b050f-7dcf-4663-afc0-d89f0e24b633"
      },
      "execution_count": null,
      "outputs": [
        {
          "output_type": "display_data",
          "data": {
            "text/plain": [
              "<Figure size 800x600 with 1 Axes>"
            ],
            "image/png": "[encoded data removed]"
          },
          "metadata": {}
        }
      ]
    },
    {
      "cell_type": "code",
      "source": [],
      "metadata": {
        "id": "UB8x8e-c0OCk"
      },
      "execution_count": null,
      "outputs": []
    }
  ]
}